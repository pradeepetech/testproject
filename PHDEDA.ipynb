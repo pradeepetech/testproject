{
  "nbformat": 4,
  "nbformat_minor": 0,
  "metadata": {
    "colab": {
      "name": "PHDEDA.ipynb",
      "provenance": [],
      "collapsed_sections": [],
      "toc_visible": true,
      "machine_shape": "hm",
      "mount_file_id": "1APJlbW0sATPahLCCoT8IAke6W0SZgIpI",
      "authorship_tag": "ABX9TyPPH1t3IXFYMCWfVKNpIYL7",
      "include_colab_link": true
    },
    "kernelspec": {
      "name": "python3",
      "display_name": "Python 3"
    },
    "accelerator": "TPU"
  },
  "cells": [
    {
      "cell_type": "markdown",
      "metadata": {
        "id": "view-in-github",
        "colab_type": "text"
      },
      "source": [
        "<a href=\"https://colab.research.google.com/github/pradeepetech/testproject/blob/master/PHDEDA.ipynb\" target=\"_parent\"><img src=\"https://colab.research.google.com/assets/colab-badge.svg\" alt=\"Open In Colab\"/></a>"
      ]
    },
    {
      "cell_type": "code",
      "metadata": {
        "id": "8aYWp-DPeBSq",
        "colab_type": "code",
        "colab": {}
      },
      "source": [
        "# Importing required libraries.\n",
        "import pandas as pd\n",
        "import numpy as np\n",
        "import seaborn as sns #visualisation\n",
        "import matplotlib.pyplot as plt #visualisation\n",
        "%matplotlib inline \n",
        "sns.set(color_codes=True)\n",
        "import os"
      ],
      "execution_count": 0,
      "outputs": []
    },
    {
      "cell_type": "code",
      "metadata": {
        "id": "7FiLW9yXfcIk",
        "colab_type": "code",
        "outputId": "cea8b344-0889-47ab-f378-125ec858c344",
        "colab": {
          "base_uri": "https://localhost:8080/",
          "height": 34
        }
      },
      "source": [
        "os.getcwd()"
      ],
      "execution_count": 68,
      "outputs": [
        {
          "output_type": "execute_result",
          "data": {
            "text/plain": [
              "'/content'"
            ]
          },
          "metadata": {
            "tags": []
          },
          "execution_count": 68
        }
      ]
    },
    {
      "cell_type": "code",
      "metadata": {
        "id": "uHqS4sPbhFv0",
        "colab_type": "code",
        "outputId": "6ffeb37e-8b89-43da-bd29-6d149652f323",
        "colab": {
          "base_uri": "https://localhost:8080/",
          "height": 71
        }
      },
      "source": [
        "# Loading Data in pandas Dataframe\n",
        "df1 = pd.read_csv(\"/content/drive/My Drive/traindata.csv\")\n",
        "# Dataset is now stored in a Pandas Dataframe"
      ],
      "execution_count": 3,
      "outputs": [
        {
          "output_type": "stream",
          "text": [
            "/usr/local/lib/python3.6/dist-packages/IPython/core/interactiveshell.py:2718: DtypeWarning: Columns (4) have mixed types. Specify dtype option on import or set low_memory=False.\n",
            "  interactivity=interactivity, compiler=compiler, result=result)\n"
          ],
          "name": "stderr"
        }
      ]
    },
    {
      "cell_type": "code",
      "metadata": {
        "id": "Vjwoa2HrfxVK",
        "colab_type": "code",
        "outputId": "29e400b1-e2ed-45ee-aa3d-ac350bbc9f18",
        "colab": {
          "base_uri": "https://localhost:8080/",
          "height": 204
        }
      },
      "source": [
        "# To display the top 5 rows\n",
        "df1.head(5)"
      ],
      "execution_count": 4,
      "outputs": [
        {
          "output_type": "execute_result",
          "data": {
            "text/html": [
              "<div>\n",
              "<style scoped>\n",
              "    .dataframe tbody tr th:only-of-type {\n",
              "        vertical-align: middle;\n",
              "    }\n",
              "\n",
              "    .dataframe tbody tr th {\n",
              "        vertical-align: top;\n",
              "    }\n",
              "\n",
              "    .dataframe thead th {\n",
              "        text-align: right;\n",
              "    }\n",
              "</style>\n",
              "<table border=\"1\" class=\"dataframe\">\n",
              "  <thead>\n",
              "    <tr style=\"text-align: right;\">\n",
              "      <th></th>\n",
              "      <th>date</th>\n",
              "      <th>locationId</th>\n",
              "      <th>item_id</th>\n",
              "      <th>unit_sales</th>\n",
              "      <th>onpromotion</th>\n",
              "    </tr>\n",
              "  </thead>\n",
              "  <tbody>\n",
              "    <tr>\n",
              "      <th>0</th>\n",
              "      <td>2015-01-01</td>\n",
              "      <td>location_25</td>\n",
              "      <td>item_103665</td>\n",
              "      <td>7.0</td>\n",
              "      <td>NaN</td>\n",
              "    </tr>\n",
              "    <tr>\n",
              "      <th>1</th>\n",
              "      <td>2015-01-01</td>\n",
              "      <td>location_25</td>\n",
              "      <td>item_105574</td>\n",
              "      <td>1.0</td>\n",
              "      <td>NaN</td>\n",
              "    </tr>\n",
              "    <tr>\n",
              "      <th>2</th>\n",
              "      <td>2015-01-01</td>\n",
              "      <td>location_25</td>\n",
              "      <td>item_105575</td>\n",
              "      <td>2.0</td>\n",
              "      <td>NaN</td>\n",
              "    </tr>\n",
              "    <tr>\n",
              "      <th>3</th>\n",
              "      <td>2015-01-01</td>\n",
              "      <td>location_25</td>\n",
              "      <td>item_108079</td>\n",
              "      <td>1.0</td>\n",
              "      <td>NaN</td>\n",
              "    </tr>\n",
              "    <tr>\n",
              "      <th>4</th>\n",
              "      <td>2015-01-01</td>\n",
              "      <td>location_25</td>\n",
              "      <td>item_108701</td>\n",
              "      <td>1.0</td>\n",
              "      <td>NaN</td>\n",
              "    </tr>\n",
              "  </tbody>\n",
              "</table>\n",
              "</div>"
            ],
            "text/plain": [
              "         date   locationId      item_id  unit_sales onpromotion\n",
              "0  2015-01-01  location_25  item_103665         7.0         NaN\n",
              "1  2015-01-01  location_25  item_105574         1.0         NaN\n",
              "2  2015-01-01  location_25  item_105575         2.0         NaN\n",
              "3  2015-01-01  location_25  item_108079         1.0         NaN\n",
              "4  2015-01-01  location_25  item_108701         1.0         NaN"
            ]
          },
          "metadata": {
            "tags": []
          },
          "execution_count": 4
        }
      ]
    },
    {
      "cell_type": "code",
      "metadata": {
        "id": "0JiLRgJSE2So",
        "colab_type": "code",
        "outputId": "87bf76a7-ab83-4074-9371-f18a3aff8d44",
        "colab": {
          "base_uri": "https://localhost:8080/",
          "height": 119
        }
      },
      "source": [
        "# Checking the data type\n",
        "df1.dtypes"
      ],
      "execution_count": 5,
      "outputs": [
        {
          "output_type": "execute_result",
          "data": {
            "text/plain": [
              "date            object\n",
              "locationId      object\n",
              "item_id         object\n",
              "unit_sales     float64\n",
              "onpromotion     object\n",
              "dtype: object"
            ]
          },
          "metadata": {
            "tags": []
          },
          "execution_count": 5
        }
      ]
    },
    {
      "cell_type": "code",
      "metadata": {
        "id": "7_r4FTQSHb9A",
        "colab_type": "code",
        "outputId": "1b0d9277-48c0-43fc-84d0-4a7707c73007",
        "colab": {
          "base_uri": "https://localhost:8080/",
          "height": 34
        }
      },
      "source": [
        "# Total number of rows and columns\n",
        "df1.shape"
      ],
      "execution_count": 6,
      "outputs": [
        {
          "output_type": "execute_result",
          "data": {
            "text/plain": [
              "(101688779, 5)"
            ]
          },
          "metadata": {
            "tags": []
          },
          "execution_count": 6
        }
      ]
    },
    {
      "cell_type": "code",
      "metadata": {
        "id": "cMFMMB4XJChp",
        "colab_type": "code",
        "outputId": "4d082acf-8d06-4531-baba-d5faff7114a1",
        "colab": {
          "base_uri": "https://localhost:8080/",
          "height": 119
        }
      },
      "source": [
        "print(df1.isnull().sum())"
      ],
      "execution_count": 7,
      "outputs": [
        {
          "output_type": "stream",
          "text": [
            "date                  0\n",
            "locationId            0\n",
            "item_id               0\n",
            "unit_sales            0\n",
            "onpromotion    21657651\n",
            "dtype: int64\n"
          ],
          "name": "stdout"
        }
      ]
    },
    {
      "cell_type": "code",
      "metadata": {
        "id": "6mLzXAcEaAP-",
        "colab_type": "code",
        "colab": {}
      },
      "source": [
        "# Type Conversations\n",
        "df1['date'] = df1['date'].astype('datetime64')"
      ],
      "execution_count": 0,
      "outputs": []
    },
    {
      "cell_type": "code",
      "metadata": {
        "id": "epF_pNoIayia",
        "colab_type": "code",
        "colab": {}
      },
      "source": [
        "#Catogarical Data\n",
        "catdata = ['locationId','item_id','onpromotion']"
      ],
      "execution_count": 0,
      "outputs": []
    },
    {
      "cell_type": "code",
      "metadata": {
        "id": "V4vYiDL5bUlz",
        "colab_type": "code",
        "colab": {}
      },
      "source": [
        "numdata = ['unit_sales']"
      ],
      "execution_count": 0,
      "outputs": []
    },
    {
      "cell_type": "code",
      "metadata": {
        "id": "7j5WiU_zbYVE",
        "colab_type": "code",
        "colab": {}
      },
      "source": [
        "for num in numdata:\n",
        "  df1[num] = df1[num].astype('int32')"
      ],
      "execution_count": 0,
      "outputs": []
    },
    {
      "cell_type": "code",
      "metadata": {
        "id": "MgfWhWAIbtM8",
        "colab_type": "code",
        "colab": {}
      },
      "source": [
        "for cat in catdata:\n",
        "  df1[cat] = df1[cat].astype('category')"
      ],
      "execution_count": 0,
      "outputs": []
    },
    {
      "cell_type": "code",
      "metadata": {
        "id": "YmtHhQ4QcGQ0",
        "colab_type": "code",
        "outputId": "14f9dbfd-ff4c-4159-e44a-680fefb0bf3c",
        "colab": {
          "base_uri": "https://localhost:8080/",
          "height": 119
        }
      },
      "source": [
        "# Checking the data type\n",
        "df1.dtypes"
      ],
      "execution_count": 13,
      "outputs": [
        {
          "output_type": "execute_result",
          "data": {
            "text/plain": [
              "date           datetime64[ns]\n",
              "locationId           category\n",
              "item_id              category\n",
              "unit_sales              int32\n",
              "onpromotion          category\n",
              "dtype: object"
            ]
          },
          "metadata": {
            "tags": []
          },
          "execution_count": 13
        }
      ]
    },
    {
      "cell_type": "code",
      "metadata": {
        "id": "ITKMZGJjcQCc",
        "colab_type": "code",
        "colab": {}
      },
      "source": [
        "df1[\"onpromotion\"].fillna(0, inplace=True)"
      ],
      "execution_count": 0,
      "outputs": []
    },
    {
      "cell_type": "code",
      "metadata": {
        "id": "mv-fdMa1c_IP",
        "colab_type": "code",
        "outputId": "115cf482-2338-4e9e-a061-e98420fff683",
        "colab": {
          "base_uri": "https://localhost:8080/",
          "height": 119
        }
      },
      "source": [
        "print(df1.isnull().sum())"
      ],
      "execution_count": 15,
      "outputs": [
        {
          "output_type": "stream",
          "text": [
            "date           0\n",
            "locationId     0\n",
            "item_id        0\n",
            "unit_sales     0\n",
            "onpromotion    0\n",
            "dtype: int64\n"
          ],
          "name": "stdout"
        }
      ]
    },
    {
      "cell_type": "code",
      "metadata": {
        "id": "TsHFKBP6dFQz",
        "colab_type": "code",
        "outputId": "38f8fba8-5893-4781-c94f-daea8b0ef32e",
        "colab": {
          "base_uri": "https://localhost:8080/",
          "height": 68
        }
      },
      "source": [
        "df1['onpromotion'].value_counts()"
      ],
      "execution_count": 16,
      "outputs": [
        {
          "output_type": "execute_result",
          "data": {
            "text/plain": [
              "False    96627806\n",
              "True      5060973\n",
              "Name: onpromotion, dtype: int64"
            ]
          },
          "metadata": {
            "tags": []
          },
          "execution_count": 16
        }
      ]
    },
    {
      "cell_type": "code",
      "metadata": {
        "id": "puRlVVJtddp5",
        "colab_type": "code",
        "colab": {}
      },
      "source": [
        "df1['onpromotion'] = df1['onpromotion'].replace(np.NaN, 'Unknown')"
      ],
      "execution_count": 0,
      "outputs": []
    },
    {
      "cell_type": "code",
      "metadata": {
        "id": "HV5qHLyWeG9z",
        "colab_type": "code",
        "colab": {}
      },
      "source": [
        "df2 = pd.read_csv(\"/content/drive/My Drive/item_details.csv\")"
      ],
      "execution_count": 0,
      "outputs": []
    },
    {
      "cell_type": "code",
      "metadata": {
        "id": "0yN2mbuKqe9Q",
        "colab_type": "code",
        "outputId": "0eda48a4-ad46-4cdf-e48c-37d82ef5b5b4",
        "colab": {
          "base_uri": "https://localhost:8080/",
          "height": 204
        }
      },
      "source": [
        "df2.head()"
      ],
      "execution_count": 19,
      "outputs": [
        {
          "output_type": "execute_result",
          "data": {
            "text/html": [
              "<div>\n",
              "<style scoped>\n",
              "    .dataframe tbody tr th:only-of-type {\n",
              "        vertical-align: middle;\n",
              "    }\n",
              "\n",
              "    .dataframe tbody tr th {\n",
              "        vertical-align: top;\n",
              "    }\n",
              "\n",
              "    .dataframe thead th {\n",
              "        text-align: right;\n",
              "    }\n",
              "</style>\n",
              "<table border=\"1\" class=\"dataframe\">\n",
              "  <thead>\n",
              "    <tr style=\"text-align: right;\">\n",
              "      <th></th>\n",
              "      <th>item_id</th>\n",
              "      <th>category_of_item</th>\n",
              "      <th>class</th>\n",
              "      <th>perishable</th>\n",
              "    </tr>\n",
              "  </thead>\n",
              "  <tbody>\n",
              "    <tr>\n",
              "      <th>0</th>\n",
              "      <td>item_96995</td>\n",
              "      <td>grocery_items</td>\n",
              "      <td>class_1093</td>\n",
              "      <td>0</td>\n",
              "    </tr>\n",
              "    <tr>\n",
              "      <th>1</th>\n",
              "      <td>item_99197</td>\n",
              "      <td>grocery_items</td>\n",
              "      <td>class_1067</td>\n",
              "      <td>0</td>\n",
              "    </tr>\n",
              "    <tr>\n",
              "      <th>2</th>\n",
              "      <td>item_103501</td>\n",
              "      <td>cleaning_utilities</td>\n",
              "      <td>class_3008</td>\n",
              "      <td>0</td>\n",
              "    </tr>\n",
              "    <tr>\n",
              "      <th>3</th>\n",
              "      <td>item_103520</td>\n",
              "      <td>grocery_items</td>\n",
              "      <td>class_1028</td>\n",
              "      <td>0</td>\n",
              "    </tr>\n",
              "    <tr>\n",
              "      <th>4</th>\n",
              "      <td>item_103665</td>\n",
              "      <td>baked_items / bread_based</td>\n",
              "      <td>class_2712</td>\n",
              "      <td>1</td>\n",
              "    </tr>\n",
              "  </tbody>\n",
              "</table>\n",
              "</div>"
            ],
            "text/plain": [
              "       item_id           category_of_item       class  perishable\n",
              "0   item_96995              grocery_items  class_1093           0\n",
              "1   item_99197              grocery_items  class_1067           0\n",
              "2  item_103501         cleaning_utilities  class_3008           0\n",
              "3  item_103520              grocery_items  class_1028           0\n",
              "4  item_103665  baked_items / bread_based  class_2712           1"
            ]
          },
          "metadata": {
            "tags": []
          },
          "execution_count": 19
        }
      ]
    },
    {
      "cell_type": "code",
      "metadata": {
        "id": "R4a5jiWetBWI",
        "colab_type": "code",
        "colab": {}
      },
      "source": [
        "catdata = ['item_id','category_of_item','class']"
      ],
      "execution_count": 0,
      "outputs": []
    },
    {
      "cell_type": "code",
      "metadata": {
        "id": "flJDc55NtERE",
        "colab_type": "code",
        "colab": {}
      },
      "source": [
        "numdata = ['perishable']"
      ],
      "execution_count": 0,
      "outputs": []
    },
    {
      "cell_type": "code",
      "metadata": {
        "id": "m-ZHCbRRtGjU",
        "colab_type": "code",
        "colab": {}
      },
      "source": [
        "for num in numdata:\n",
        "  df2[num] = df2[num].astype('int8')"
      ],
      "execution_count": 0,
      "outputs": []
    },
    {
      "cell_type": "code",
      "metadata": {
        "id": "ojXcvrJntNIJ",
        "colab_type": "code",
        "colab": {}
      },
      "source": [
        "for cat in catdata:\n",
        "  df2[cat] = df2[cat].astype('category')"
      ],
      "execution_count": 0,
      "outputs": []
    },
    {
      "cell_type": "code",
      "metadata": {
        "id": "ZCr4G7uVtRuS",
        "colab_type": "code",
        "colab": {}
      },
      "source": [
        "df1_df2 = pd.merge(df1,df2, on='item_id', how='left')"
      ],
      "execution_count": 0,
      "outputs": []
    },
    {
      "cell_type": "code",
      "metadata": {
        "id": "lMpgPUWwttCC",
        "colab_type": "code",
        "outputId": "460a7397-9107-4819-94ab-3898818003a4",
        "colab": {
          "base_uri": "https://localhost:8080/",
          "height": 204
        }
      },
      "source": [
        "df1_df2.head()"
      ],
      "execution_count": 25,
      "outputs": [
        {
          "output_type": "execute_result",
          "data": {
            "text/html": [
              "<div>\n",
              "<style scoped>\n",
              "    .dataframe tbody tr th:only-of-type {\n",
              "        vertical-align: middle;\n",
              "    }\n",
              "\n",
              "    .dataframe tbody tr th {\n",
              "        vertical-align: top;\n",
              "    }\n",
              "\n",
              "    .dataframe thead th {\n",
              "        text-align: right;\n",
              "    }\n",
              "</style>\n",
              "<table border=\"1\" class=\"dataframe\">\n",
              "  <thead>\n",
              "    <tr style=\"text-align: right;\">\n",
              "      <th></th>\n",
              "      <th>date</th>\n",
              "      <th>locationId</th>\n",
              "      <th>item_id</th>\n",
              "      <th>unit_sales</th>\n",
              "      <th>onpromotion</th>\n",
              "      <th>category_of_item</th>\n",
              "      <th>class</th>\n",
              "      <th>perishable</th>\n",
              "    </tr>\n",
              "  </thead>\n",
              "  <tbody>\n",
              "    <tr>\n",
              "      <th>0</th>\n",
              "      <td>2015-01-01</td>\n",
              "      <td>location_25</td>\n",
              "      <td>item_103665</td>\n",
              "      <td>7</td>\n",
              "      <td>False</td>\n",
              "      <td>baked_items / bread_based</td>\n",
              "      <td>class_2712</td>\n",
              "      <td>1</td>\n",
              "    </tr>\n",
              "    <tr>\n",
              "      <th>1</th>\n",
              "      <td>2015-01-01</td>\n",
              "      <td>location_25</td>\n",
              "      <td>item_105574</td>\n",
              "      <td>1</td>\n",
              "      <td>False</td>\n",
              "      <td>grocery_items</td>\n",
              "      <td>class_1045</td>\n",
              "      <td>0</td>\n",
              "    </tr>\n",
              "    <tr>\n",
              "      <th>2</th>\n",
              "      <td>2015-01-01</td>\n",
              "      <td>location_25</td>\n",
              "      <td>item_105575</td>\n",
              "      <td>2</td>\n",
              "      <td>False</td>\n",
              "      <td>grocery_items</td>\n",
              "      <td>class_1045</td>\n",
              "      <td>0</td>\n",
              "    </tr>\n",
              "    <tr>\n",
              "      <th>3</th>\n",
              "      <td>2015-01-01</td>\n",
              "      <td>location_25</td>\n",
              "      <td>item_108079</td>\n",
              "      <td>1</td>\n",
              "      <td>False</td>\n",
              "      <td>grocery_items</td>\n",
              "      <td>class_1030</td>\n",
              "      <td>0</td>\n",
              "    </tr>\n",
              "    <tr>\n",
              "      <th>4</th>\n",
              "      <td>2015-01-01</td>\n",
              "      <td>location_25</td>\n",
              "      <td>item_108701</td>\n",
              "      <td>1</td>\n",
              "      <td>False</td>\n",
              "      <td>deli_items</td>\n",
              "      <td>class_2644</td>\n",
              "      <td>1</td>\n",
              "    </tr>\n",
              "  </tbody>\n",
              "</table>\n",
              "</div>"
            ],
            "text/plain": [
              "        date   locationId  ...       class  perishable\n",
              "0 2015-01-01  location_25  ...  class_2712           1\n",
              "1 2015-01-01  location_25  ...  class_1045           0\n",
              "2 2015-01-01  location_25  ...  class_1045           0\n",
              "3 2015-01-01  location_25  ...  class_1030           0\n",
              "4 2015-01-01  location_25  ...  class_2644           1\n",
              "\n",
              "[5 rows x 8 columns]"
            ]
          },
          "metadata": {
            "tags": []
          },
          "execution_count": 25
        }
      ]
    },
    {
      "cell_type": "code",
      "metadata": {
        "id": "AjhmN5EykZ58",
        "colab_type": "code",
        "colab": {
          "base_uri": "https://localhost:8080/",
          "height": 204
        },
        "outputId": "c808c0a6-22ff-40a6-e213-7cf061054f80"
      },
      "source": [
        "# Change the column names \n",
        "df1_df2 = df1_df2.rename({\"locationId\":\"location_id\"}, axis='columns') \n",
        "  \n",
        "df1_df2.head()"
      ],
      "execution_count": 26,
      "outputs": [
        {
          "output_type": "execute_result",
          "data": {
            "text/html": [
              "<div>\n",
              "<style scoped>\n",
              "    .dataframe tbody tr th:only-of-type {\n",
              "        vertical-align: middle;\n",
              "    }\n",
              "\n",
              "    .dataframe tbody tr th {\n",
              "        vertical-align: top;\n",
              "    }\n",
              "\n",
              "    .dataframe thead th {\n",
              "        text-align: right;\n",
              "    }\n",
              "</style>\n",
              "<table border=\"1\" class=\"dataframe\">\n",
              "  <thead>\n",
              "    <tr style=\"text-align: right;\">\n",
              "      <th></th>\n",
              "      <th>date</th>\n",
              "      <th>location_id</th>\n",
              "      <th>item_id</th>\n",
              "      <th>unit_sales</th>\n",
              "      <th>onpromotion</th>\n",
              "      <th>category_of_item</th>\n",
              "      <th>class</th>\n",
              "      <th>perishable</th>\n",
              "    </tr>\n",
              "  </thead>\n",
              "  <tbody>\n",
              "    <tr>\n",
              "      <th>0</th>\n",
              "      <td>2015-01-01</td>\n",
              "      <td>location_25</td>\n",
              "      <td>item_103665</td>\n",
              "      <td>7</td>\n",
              "      <td>False</td>\n",
              "      <td>baked_items / bread_based</td>\n",
              "      <td>class_2712</td>\n",
              "      <td>1</td>\n",
              "    </tr>\n",
              "    <tr>\n",
              "      <th>1</th>\n",
              "      <td>2015-01-01</td>\n",
              "      <td>location_25</td>\n",
              "      <td>item_105574</td>\n",
              "      <td>1</td>\n",
              "      <td>False</td>\n",
              "      <td>grocery_items</td>\n",
              "      <td>class_1045</td>\n",
              "      <td>0</td>\n",
              "    </tr>\n",
              "    <tr>\n",
              "      <th>2</th>\n",
              "      <td>2015-01-01</td>\n",
              "      <td>location_25</td>\n",
              "      <td>item_105575</td>\n",
              "      <td>2</td>\n",
              "      <td>False</td>\n",
              "      <td>grocery_items</td>\n",
              "      <td>class_1045</td>\n",
              "      <td>0</td>\n",
              "    </tr>\n",
              "    <tr>\n",
              "      <th>3</th>\n",
              "      <td>2015-01-01</td>\n",
              "      <td>location_25</td>\n",
              "      <td>item_108079</td>\n",
              "      <td>1</td>\n",
              "      <td>False</td>\n",
              "      <td>grocery_items</td>\n",
              "      <td>class_1030</td>\n",
              "      <td>0</td>\n",
              "    </tr>\n",
              "    <tr>\n",
              "      <th>4</th>\n",
              "      <td>2015-01-01</td>\n",
              "      <td>location_25</td>\n",
              "      <td>item_108701</td>\n",
              "      <td>1</td>\n",
              "      <td>False</td>\n",
              "      <td>deli_items</td>\n",
              "      <td>class_2644</td>\n",
              "      <td>1</td>\n",
              "    </tr>\n",
              "  </tbody>\n",
              "</table>\n",
              "</div>"
            ],
            "text/plain": [
              "        date  location_id  ...       class  perishable\n",
              "0 2015-01-01  location_25  ...  class_2712           1\n",
              "1 2015-01-01  location_25  ...  class_1045           0\n",
              "2 2015-01-01  location_25  ...  class_1045           0\n",
              "3 2015-01-01  location_25  ...  class_1030           0\n",
              "4 2015-01-01  location_25  ...  class_2644           1\n",
              "\n",
              "[5 rows x 8 columns]"
            ]
          },
          "metadata": {
            "tags": []
          },
          "execution_count": 26
        }
      ]
    },
    {
      "cell_type": "code",
      "metadata": {
        "id": "yG2nVOght6st",
        "colab_type": "code",
        "colab": {}
      },
      "source": [
        "df3 = pd.read_csv(\"/content/drive/My Drive/location_details.csv\")"
      ],
      "execution_count": 0,
      "outputs": []
    },
    {
      "cell_type": "code",
      "metadata": {
        "id": "Misv7oym2LKw",
        "colab_type": "code",
        "outputId": "80fb81f9-1ca0-4f34-9020-6ccdd7a55e22",
        "colab": {
          "base_uri": "https://localhost:8080/",
          "height": 204
        }
      },
      "source": [
        "df3.head()"
      ],
      "execution_count": 28,
      "outputs": [
        {
          "output_type": "execute_result",
          "data": {
            "text/html": [
              "<div>\n",
              "<style scoped>\n",
              "    .dataframe tbody tr th:only-of-type {\n",
              "        vertical-align: middle;\n",
              "    }\n",
              "\n",
              "    .dataframe tbody tr th {\n",
              "        vertical-align: top;\n",
              "    }\n",
              "\n",
              "    .dataframe thead th {\n",
              "        text-align: right;\n",
              "    }\n",
              "</style>\n",
              "<table border=\"1\" class=\"dataframe\">\n",
              "  <thead>\n",
              "    <tr style=\"text-align: right;\">\n",
              "      <th></th>\n",
              "      <th>location_id</th>\n",
              "      <th>city</th>\n",
              "      <th>state</th>\n",
              "      <th>type</th>\n",
              "      <th>cluster</th>\n",
              "    </tr>\n",
              "  </thead>\n",
              "  <tbody>\n",
              "    <tr>\n",
              "      <th>0</th>\n",
              "      <td>location_1</td>\n",
              "      <td>Bengaluru</td>\n",
              "      <td>Karnataka</td>\n",
              "      <td>D</td>\n",
              "      <td>13</td>\n",
              "    </tr>\n",
              "    <tr>\n",
              "      <th>1</th>\n",
              "      <td>location_2</td>\n",
              "      <td>Bengaluru</td>\n",
              "      <td>Karnataka</td>\n",
              "      <td>D</td>\n",
              "      <td>13</td>\n",
              "    </tr>\n",
              "    <tr>\n",
              "      <th>2</th>\n",
              "      <td>location_3</td>\n",
              "      <td>Bengaluru</td>\n",
              "      <td>Karnataka</td>\n",
              "      <td>D</td>\n",
              "      <td>8</td>\n",
              "    </tr>\n",
              "    <tr>\n",
              "      <th>3</th>\n",
              "      <td>location_4</td>\n",
              "      <td>Bengaluru</td>\n",
              "      <td>Karnataka</td>\n",
              "      <td>D</td>\n",
              "      <td>9</td>\n",
              "    </tr>\n",
              "    <tr>\n",
              "      <th>4</th>\n",
              "      <td>location_5</td>\n",
              "      <td>Delhi</td>\n",
              "      <td>NCR</td>\n",
              "      <td>D</td>\n",
              "      <td>4</td>\n",
              "    </tr>\n",
              "  </tbody>\n",
              "</table>\n",
              "</div>"
            ],
            "text/plain": [
              "  location_id       city      state type  cluster\n",
              "0  location_1  Bengaluru  Karnataka    D       13\n",
              "1  location_2  Bengaluru  Karnataka    D       13\n",
              "2  location_3  Bengaluru  Karnataka    D        8\n",
              "3  location_4  Bengaluru  Karnataka    D        9\n",
              "4  location_5      Delhi        NCR    D        4"
            ]
          },
          "metadata": {
            "tags": []
          },
          "execution_count": 28
        }
      ]
    },
    {
      "cell_type": "code",
      "metadata": {
        "id": "5e9IqHqj2Sct",
        "colab_type": "code",
        "colab": {}
      },
      "source": [
        "catdata = ['location_id','city','state','type']"
      ],
      "execution_count": 0,
      "outputs": []
    },
    {
      "cell_type": "code",
      "metadata": {
        "id": "yvOgrZNP2yjs",
        "colab_type": "code",
        "colab": {}
      },
      "source": [
        "numdata = ['cluster']"
      ],
      "execution_count": 0,
      "outputs": []
    },
    {
      "cell_type": "code",
      "metadata": {
        "id": "YXcahT9T26Iu",
        "colab_type": "code",
        "colab": {}
      },
      "source": [
        "for num in numdata:\n",
        "  df3[num] = df3[num].astype('int8')"
      ],
      "execution_count": 0,
      "outputs": []
    },
    {
      "cell_type": "code",
      "metadata": {
        "id": "Wz7VJMic3d6p",
        "colab_type": "code",
        "colab": {}
      },
      "source": [
        "for cat in catdata:\n",
        "  df3[cat] = df3[cat].astype('category')"
      ],
      "execution_count": 0,
      "outputs": []
    },
    {
      "cell_type": "code",
      "metadata": {
        "id": "jldEDxrh3lut",
        "colab_type": "code",
        "colab": {}
      },
      "source": [
        "df4 = pd.read_csv(\"/content/drive/My Drive/train_transactions.csv\")"
      ],
      "execution_count": 0,
      "outputs": []
    },
    {
      "cell_type": "code",
      "metadata": {
        "id": "HidfT-au5kH9",
        "colab_type": "code",
        "outputId": "042f3d1e-5b52-4b3f-c502-9ec334ea99bb",
        "colab": {
          "base_uri": "https://localhost:8080/",
          "height": 204
        }
      },
      "source": [
        "df4.head()"
      ],
      "execution_count": 34,
      "outputs": [
        {
          "output_type": "execute_result",
          "data": {
            "text/html": [
              "<div>\n",
              "<style scoped>\n",
              "    .dataframe tbody tr th:only-of-type {\n",
              "        vertical-align: middle;\n",
              "    }\n",
              "\n",
              "    .dataframe tbody tr th {\n",
              "        vertical-align: top;\n",
              "    }\n",
              "\n",
              "    .dataframe thead th {\n",
              "        text-align: right;\n",
              "    }\n",
              "</style>\n",
              "<table border=\"1\" class=\"dataframe\">\n",
              "  <thead>\n",
              "    <tr style=\"text-align: right;\">\n",
              "      <th></th>\n",
              "      <th>date</th>\n",
              "      <th>location_identifier</th>\n",
              "      <th>transactions</th>\n",
              "    </tr>\n",
              "  </thead>\n",
              "  <tbody>\n",
              "    <tr>\n",
              "      <th>0</th>\n",
              "      <td>2015-01-01</td>\n",
              "      <td>location_25</td>\n",
              "      <td>770</td>\n",
              "    </tr>\n",
              "    <tr>\n",
              "      <th>1</th>\n",
              "      <td>2015-01-02</td>\n",
              "      <td>location_1</td>\n",
              "      <td>2111</td>\n",
              "    </tr>\n",
              "    <tr>\n",
              "      <th>2</th>\n",
              "      <td>2015-01-02</td>\n",
              "      <td>location_2</td>\n",
              "      <td>2358</td>\n",
              "    </tr>\n",
              "    <tr>\n",
              "      <th>3</th>\n",
              "      <td>2015-01-02</td>\n",
              "      <td>location_3</td>\n",
              "      <td>3487</td>\n",
              "    </tr>\n",
              "    <tr>\n",
              "      <th>4</th>\n",
              "      <td>2015-01-02</td>\n",
              "      <td>location_4</td>\n",
              "      <td>1922</td>\n",
              "    </tr>\n",
              "  </tbody>\n",
              "</table>\n",
              "</div>"
            ],
            "text/plain": [
              "         date location_identifier  transactions\n",
              "0  2015-01-01         location_25           770\n",
              "1  2015-01-02          location_1          2111\n",
              "2  2015-01-02          location_2          2358\n",
              "3  2015-01-02          location_3          3487\n",
              "4  2015-01-02          location_4          1922"
            ]
          },
          "metadata": {
            "tags": []
          },
          "execution_count": 34
        }
      ]
    },
    {
      "cell_type": "code",
      "metadata": {
        "id": "9CtYnuaw5quN",
        "colab_type": "code",
        "colab": {}
      },
      "source": [
        "catdata = ['location_identifier']"
      ],
      "execution_count": 0,
      "outputs": []
    },
    {
      "cell_type": "code",
      "metadata": {
        "id": "jJs9uDQq6DD5",
        "colab_type": "code",
        "colab": {}
      },
      "source": [
        "numdata = ['transactions']"
      ],
      "execution_count": 0,
      "outputs": []
    },
    {
      "cell_type": "code",
      "metadata": {
        "id": "nrZMXHJw6JpJ",
        "colab_type": "code",
        "colab": {}
      },
      "source": [
        "for num in numdata:\n",
        "  df4[num] = df4[num].astype('int8')"
      ],
      "execution_count": 0,
      "outputs": []
    },
    {
      "cell_type": "code",
      "metadata": {
        "id": "VP4ThYE-6cVJ",
        "colab_type": "code",
        "colab": {}
      },
      "source": [
        "for cat in catdata:\n",
        "  df4[cat] = df4[cat].astype('category')"
      ],
      "execution_count": 0,
      "outputs": []
    },
    {
      "cell_type": "code",
      "metadata": {
        "id": "JT3_sRx_hK5u",
        "colab_type": "code",
        "colab": {
          "base_uri": "https://localhost:8080/",
          "height": 204
        },
        "outputId": "ba735899-a517-4345-b32f-d3ccf50d1033"
      },
      "source": [
        "# Change the column names \n",
        "df4 = df4.rename({\"location_identifier\":\"location_id\"}, axis='columns') \n",
        "  \n",
        "df4.head()"
      ],
      "execution_count": 39,
      "outputs": [
        {
          "output_type": "execute_result",
          "data": {
            "text/html": [
              "<div>\n",
              "<style scoped>\n",
              "    .dataframe tbody tr th:only-of-type {\n",
              "        vertical-align: middle;\n",
              "    }\n",
              "\n",
              "    .dataframe tbody tr th {\n",
              "        vertical-align: top;\n",
              "    }\n",
              "\n",
              "    .dataframe thead th {\n",
              "        text-align: right;\n",
              "    }\n",
              "</style>\n",
              "<table border=\"1\" class=\"dataframe\">\n",
              "  <thead>\n",
              "    <tr style=\"text-align: right;\">\n",
              "      <th></th>\n",
              "      <th>date</th>\n",
              "      <th>location_id</th>\n",
              "      <th>transactions</th>\n",
              "    </tr>\n",
              "  </thead>\n",
              "  <tbody>\n",
              "    <tr>\n",
              "      <th>0</th>\n",
              "      <td>2015-01-01</td>\n",
              "      <td>location_25</td>\n",
              "      <td>2</td>\n",
              "    </tr>\n",
              "    <tr>\n",
              "      <th>1</th>\n",
              "      <td>2015-01-02</td>\n",
              "      <td>location_1</td>\n",
              "      <td>63</td>\n",
              "    </tr>\n",
              "    <tr>\n",
              "      <th>2</th>\n",
              "      <td>2015-01-02</td>\n",
              "      <td>location_2</td>\n",
              "      <td>54</td>\n",
              "    </tr>\n",
              "    <tr>\n",
              "      <th>3</th>\n",
              "      <td>2015-01-02</td>\n",
              "      <td>location_3</td>\n",
              "      <td>-97</td>\n",
              "    </tr>\n",
              "    <tr>\n",
              "      <th>4</th>\n",
              "      <td>2015-01-02</td>\n",
              "      <td>location_4</td>\n",
              "      <td>-126</td>\n",
              "    </tr>\n",
              "  </tbody>\n",
              "</table>\n",
              "</div>"
            ],
            "text/plain": [
              "         date  location_id  transactions\n",
              "0  2015-01-01  location_25             2\n",
              "1  2015-01-02   location_1            63\n",
              "2  2015-01-02   location_2            54\n",
              "3  2015-01-02   location_3           -97\n",
              "4  2015-01-02   location_4          -126"
            ]
          },
          "metadata": {
            "tags": []
          },
          "execution_count": 39
        }
      ]
    },
    {
      "cell_type": "code",
      "metadata": {
        "id": "xN_wTJ3g6jf6",
        "colab_type": "code",
        "colab": {}
      },
      "source": [
        "df3_df4 = pd.merge(df3,df4, on='location_id', how='left')"
      ],
      "execution_count": 0,
      "outputs": []
    },
    {
      "cell_type": "code",
      "metadata": {
        "id": "khaCbQPrehKR",
        "colab_type": "code",
        "colab": {
          "base_uri": "https://localhost:8080/",
          "height": 204
        },
        "outputId": "a0f5fb73-b204-48a8-82c3-b3d703b9b3db"
      },
      "source": [
        "df3_df4.head()"
      ],
      "execution_count": 41,
      "outputs": [
        {
          "output_type": "execute_result",
          "data": {
            "text/html": [
              "<div>\n",
              "<style scoped>\n",
              "    .dataframe tbody tr th:only-of-type {\n",
              "        vertical-align: middle;\n",
              "    }\n",
              "\n",
              "    .dataframe tbody tr th {\n",
              "        vertical-align: top;\n",
              "    }\n",
              "\n",
              "    .dataframe thead th {\n",
              "        text-align: right;\n",
              "    }\n",
              "</style>\n",
              "<table border=\"1\" class=\"dataframe\">\n",
              "  <thead>\n",
              "    <tr style=\"text-align: right;\">\n",
              "      <th></th>\n",
              "      <th>location_id</th>\n",
              "      <th>city</th>\n",
              "      <th>state</th>\n",
              "      <th>type</th>\n",
              "      <th>cluster</th>\n",
              "      <th>date</th>\n",
              "      <th>transactions</th>\n",
              "    </tr>\n",
              "  </thead>\n",
              "  <tbody>\n",
              "    <tr>\n",
              "      <th>0</th>\n",
              "      <td>location_1</td>\n",
              "      <td>Bengaluru</td>\n",
              "      <td>Karnataka</td>\n",
              "      <td>D</td>\n",
              "      <td>13</td>\n",
              "      <td>2015-01-02</td>\n",
              "      <td>63.0</td>\n",
              "    </tr>\n",
              "    <tr>\n",
              "      <th>1</th>\n",
              "      <td>location_1</td>\n",
              "      <td>Bengaluru</td>\n",
              "      <td>Karnataka</td>\n",
              "      <td>D</td>\n",
              "      <td>13</td>\n",
              "      <td>2015-01-03</td>\n",
              "      <td>41.0</td>\n",
              "    </tr>\n",
              "    <tr>\n",
              "      <th>2</th>\n",
              "      <td>location_1</td>\n",
              "      <td>Bengaluru</td>\n",
              "      <td>Karnataka</td>\n",
              "      <td>D</td>\n",
              "      <td>13</td>\n",
              "      <td>2015-01-04</td>\n",
              "      <td>71.0</td>\n",
              "    </tr>\n",
              "    <tr>\n",
              "      <th>3</th>\n",
              "      <td>location_1</td>\n",
              "      <td>Bengaluru</td>\n",
              "      <td>Karnataka</td>\n",
              "      <td>D</td>\n",
              "      <td>13</td>\n",
              "      <td>2015-01-05</td>\n",
              "      <td>-27.0</td>\n",
              "    </tr>\n",
              "    <tr>\n",
              "      <th>4</th>\n",
              "      <td>location_1</td>\n",
              "      <td>Bengaluru</td>\n",
              "      <td>Karnataka</td>\n",
              "      <td>D</td>\n",
              "      <td>13</td>\n",
              "      <td>2015-01-06</td>\n",
              "      <td>8.0</td>\n",
              "    </tr>\n",
              "  </tbody>\n",
              "</table>\n",
              "</div>"
            ],
            "text/plain": [
              "  location_id       city      state type  cluster        date  transactions\n",
              "0  location_1  Bengaluru  Karnataka    D       13  2015-01-02          63.0\n",
              "1  location_1  Bengaluru  Karnataka    D       13  2015-01-03          41.0\n",
              "2  location_1  Bengaluru  Karnataka    D       13  2015-01-04          71.0\n",
              "3  location_1  Bengaluru  Karnataka    D       13  2015-01-05         -27.0\n",
              "4  location_1  Bengaluru  Karnataka    D       13  2015-01-06           8.0"
            ]
          },
          "metadata": {
            "tags": []
          },
          "execution_count": 41
        }
      ]
    },
    {
      "cell_type": "code",
      "metadata": {
        "id": "R5YEcWaembGc",
        "colab_type": "code",
        "colab": {
          "base_uri": "https://localhost:8080/",
          "height": 204
        },
        "outputId": "71de420e-d9e3-4f4b-9bab-8bc6861c49dc"
      },
      "source": [
        "df1_df2.head()"
      ],
      "execution_count": 42,
      "outputs": [
        {
          "output_type": "execute_result",
          "data": {
            "text/html": [
              "<div>\n",
              "<style scoped>\n",
              "    .dataframe tbody tr th:only-of-type {\n",
              "        vertical-align: middle;\n",
              "    }\n",
              "\n",
              "    .dataframe tbody tr th {\n",
              "        vertical-align: top;\n",
              "    }\n",
              "\n",
              "    .dataframe thead th {\n",
              "        text-align: right;\n",
              "    }\n",
              "</style>\n",
              "<table border=\"1\" class=\"dataframe\">\n",
              "  <thead>\n",
              "    <tr style=\"text-align: right;\">\n",
              "      <th></th>\n",
              "      <th>date</th>\n",
              "      <th>location_id</th>\n",
              "      <th>item_id</th>\n",
              "      <th>unit_sales</th>\n",
              "      <th>onpromotion</th>\n",
              "      <th>category_of_item</th>\n",
              "      <th>class</th>\n",
              "      <th>perishable</th>\n",
              "    </tr>\n",
              "  </thead>\n",
              "  <tbody>\n",
              "    <tr>\n",
              "      <th>0</th>\n",
              "      <td>2015-01-01</td>\n",
              "      <td>location_25</td>\n",
              "      <td>item_103665</td>\n",
              "      <td>7</td>\n",
              "      <td>False</td>\n",
              "      <td>baked_items / bread_based</td>\n",
              "      <td>class_2712</td>\n",
              "      <td>1</td>\n",
              "    </tr>\n",
              "    <tr>\n",
              "      <th>1</th>\n",
              "      <td>2015-01-01</td>\n",
              "      <td>location_25</td>\n",
              "      <td>item_105574</td>\n",
              "      <td>1</td>\n",
              "      <td>False</td>\n",
              "      <td>grocery_items</td>\n",
              "      <td>class_1045</td>\n",
              "      <td>0</td>\n",
              "    </tr>\n",
              "    <tr>\n",
              "      <th>2</th>\n",
              "      <td>2015-01-01</td>\n",
              "      <td>location_25</td>\n",
              "      <td>item_105575</td>\n",
              "      <td>2</td>\n",
              "      <td>False</td>\n",
              "      <td>grocery_items</td>\n",
              "      <td>class_1045</td>\n",
              "      <td>0</td>\n",
              "    </tr>\n",
              "    <tr>\n",
              "      <th>3</th>\n",
              "      <td>2015-01-01</td>\n",
              "      <td>location_25</td>\n",
              "      <td>item_108079</td>\n",
              "      <td>1</td>\n",
              "      <td>False</td>\n",
              "      <td>grocery_items</td>\n",
              "      <td>class_1030</td>\n",
              "      <td>0</td>\n",
              "    </tr>\n",
              "    <tr>\n",
              "      <th>4</th>\n",
              "      <td>2015-01-01</td>\n",
              "      <td>location_25</td>\n",
              "      <td>item_108701</td>\n",
              "      <td>1</td>\n",
              "      <td>False</td>\n",
              "      <td>deli_items</td>\n",
              "      <td>class_2644</td>\n",
              "      <td>1</td>\n",
              "    </tr>\n",
              "  </tbody>\n",
              "</table>\n",
              "</div>"
            ],
            "text/plain": [
              "        date  location_id  ...       class  perishable\n",
              "0 2015-01-01  location_25  ...  class_2712           1\n",
              "1 2015-01-01  location_25  ...  class_1045           0\n",
              "2 2015-01-01  location_25  ...  class_1045           0\n",
              "3 2015-01-01  location_25  ...  class_1030           0\n",
              "4 2015-01-01  location_25  ...  class_2644           1\n",
              "\n",
              "[5 rows x 8 columns]"
            ]
          },
          "metadata": {
            "tags": []
          },
          "execution_count": 42
        }
      ]
    },
    {
      "cell_type": "code",
      "metadata": {
        "id": "nrQAnaEwmFON",
        "colab_type": "code",
        "colab": {}
      },
      "source": [
        "df123 = pd.merge(df1_df2, df3, suffixes=('_merge','_location'),on='location_id',how='left')"
      ],
      "execution_count": 0,
      "outputs": []
    },
    {
      "cell_type": "code",
      "metadata": {
        "id": "66JFG1tDrEmK",
        "colab_type": "code",
        "colab": {
          "base_uri": "https://localhost:8080/",
          "height": 289
        },
        "outputId": "ab2aa781-b8d9-410b-80f4-ec585180c13a"
      },
      "source": [
        "df123.head()"
      ],
      "execution_count": 44,
      "outputs": [
        {
          "output_type": "execute_result",
          "data": {
            "text/html": [
              "<div>\n",
              "<style scoped>\n",
              "    .dataframe tbody tr th:only-of-type {\n",
              "        vertical-align: middle;\n",
              "    }\n",
              "\n",
              "    .dataframe tbody tr th {\n",
              "        vertical-align: top;\n",
              "    }\n",
              "\n",
              "    .dataframe thead th {\n",
              "        text-align: right;\n",
              "    }\n",
              "</style>\n",
              "<table border=\"1\" class=\"dataframe\">\n",
              "  <thead>\n",
              "    <tr style=\"text-align: right;\">\n",
              "      <th></th>\n",
              "      <th>date</th>\n",
              "      <th>location_id</th>\n",
              "      <th>item_id</th>\n",
              "      <th>unit_sales</th>\n",
              "      <th>onpromotion</th>\n",
              "      <th>category_of_item</th>\n",
              "      <th>class</th>\n",
              "      <th>perishable</th>\n",
              "      <th>city</th>\n",
              "      <th>state</th>\n",
              "      <th>type</th>\n",
              "      <th>cluster</th>\n",
              "    </tr>\n",
              "  </thead>\n",
              "  <tbody>\n",
              "    <tr>\n",
              "      <th>0</th>\n",
              "      <td>2015-01-01</td>\n",
              "      <td>location_25</td>\n",
              "      <td>item_103665</td>\n",
              "      <td>7</td>\n",
              "      <td>False</td>\n",
              "      <td>baked_items / bread_based</td>\n",
              "      <td>class_2712</td>\n",
              "      <td>1</td>\n",
              "      <td>Kanpur</td>\n",
              "      <td>Uttar Pradesh</td>\n",
              "      <td>D</td>\n",
              "      <td>1</td>\n",
              "    </tr>\n",
              "    <tr>\n",
              "      <th>1</th>\n",
              "      <td>2015-01-01</td>\n",
              "      <td>location_25</td>\n",
              "      <td>item_105574</td>\n",
              "      <td>1</td>\n",
              "      <td>False</td>\n",
              "      <td>grocery_items</td>\n",
              "      <td>class_1045</td>\n",
              "      <td>0</td>\n",
              "      <td>Kanpur</td>\n",
              "      <td>Uttar Pradesh</td>\n",
              "      <td>D</td>\n",
              "      <td>1</td>\n",
              "    </tr>\n",
              "    <tr>\n",
              "      <th>2</th>\n",
              "      <td>2015-01-01</td>\n",
              "      <td>location_25</td>\n",
              "      <td>item_105575</td>\n",
              "      <td>2</td>\n",
              "      <td>False</td>\n",
              "      <td>grocery_items</td>\n",
              "      <td>class_1045</td>\n",
              "      <td>0</td>\n",
              "      <td>Kanpur</td>\n",
              "      <td>Uttar Pradesh</td>\n",
              "      <td>D</td>\n",
              "      <td>1</td>\n",
              "    </tr>\n",
              "    <tr>\n",
              "      <th>3</th>\n",
              "      <td>2015-01-01</td>\n",
              "      <td>location_25</td>\n",
              "      <td>item_108079</td>\n",
              "      <td>1</td>\n",
              "      <td>False</td>\n",
              "      <td>grocery_items</td>\n",
              "      <td>class_1030</td>\n",
              "      <td>0</td>\n",
              "      <td>Kanpur</td>\n",
              "      <td>Uttar Pradesh</td>\n",
              "      <td>D</td>\n",
              "      <td>1</td>\n",
              "    </tr>\n",
              "    <tr>\n",
              "      <th>4</th>\n",
              "      <td>2015-01-01</td>\n",
              "      <td>location_25</td>\n",
              "      <td>item_108701</td>\n",
              "      <td>1</td>\n",
              "      <td>False</td>\n",
              "      <td>deli_items</td>\n",
              "      <td>class_2644</td>\n",
              "      <td>1</td>\n",
              "      <td>Kanpur</td>\n",
              "      <td>Uttar Pradesh</td>\n",
              "      <td>D</td>\n",
              "      <td>1</td>\n",
              "    </tr>\n",
              "  </tbody>\n",
              "</table>\n",
              "</div>"
            ],
            "text/plain": [
              "        date  location_id      item_id  ...          state  type cluster\n",
              "0 2015-01-01  location_25  item_103665  ...  Uttar Pradesh     D       1\n",
              "1 2015-01-01  location_25  item_105574  ...  Uttar Pradesh     D       1\n",
              "2 2015-01-01  location_25  item_105575  ...  Uttar Pradesh     D       1\n",
              "3 2015-01-01  location_25  item_108079  ...  Uttar Pradesh     D       1\n",
              "4 2015-01-01  location_25  item_108701  ...  Uttar Pradesh     D       1\n",
              "\n",
              "[5 rows x 12 columns]"
            ]
          },
          "metadata": {
            "tags": []
          },
          "execution_count": 44
        }
      ]
    },
    {
      "cell_type": "code",
      "metadata": {
        "id": "jvpVVTMDzqDB",
        "colab_type": "code",
        "colab": {
          "base_uri": "https://localhost:8080/",
          "height": 513
        },
        "outputId": "4d41da86-73a0-46b9-f8b4-b301ad5fc253"
      },
      "source": [
        "plt.style.use('fivethirtyeight')\n",
        "plt.figure(figsize=(12,7))\n",
        "sns.distplot(df123.unit_sales, bins = 25)\n",
        "plt.ticklabel_format(style='plain', axis='x', scilimits=(0,1))\n",
        "plt.xlabel(\"category_of_item\")\n",
        "plt.ylabel(\"Number of Sales\")\n",
        "plt.title(\"unit_sales\")"
      ],
      "execution_count": 50,
      "outputs": [
        {
          "output_type": "execute_result",
          "data": {
            "text/plain": [
              "Text(0.5, 1.0, 'unit_sales')"
            ]
          },
          "metadata": {
            "tags": []
          },
          "execution_count": 50
        },
        {
          "output_type": "display_data",
          "data": {
            "image/png": "[encoded data removed]",
            "text/plain": [
              "<Figure size 864x504 with 1 Axes>"
            ]
          },
          "metadata": {
            "tags": []
          }
        }
      ]
    },
    {
      "cell_type": "code",
      "metadata": {
        "id": "-qroEUmX13MB",
        "colab_type": "code",
        "colab": {
          "base_uri": "https://localhost:8080/",
          "height": 85
        },
        "outputId": "bc51a1ed-48c0-492a-803d-8fd7b186260d"
      },
      "source": [
        "numeric_features = df123.select_dtypes(include=[np.number])\n",
        "numeric_features.dtypes"
      ],
      "execution_count": 53,
      "outputs": [
        {
          "output_type": "execute_result",
          "data": {
            "text/plain": [
              "unit_sales    int32\n",
              "perishable     int8\n",
              "cluster        int8\n",
              "dtype: object"
            ]
          },
          "metadata": {
            "tags": []
          },
          "execution_count": 53
        }
      ]
    },
    {
      "cell_type": "code",
      "metadata": {
        "id": "luFDzwif2OED",
        "colab_type": "code",
        "colab": {
          "base_uri": "https://localhost:8080/",
          "height": 142
        },
        "outputId": "1031ca51-cda2-4cc4-eeb5-752645a9de67"
      },
      "source": [
        "corr =numeric_features.corr()\n",
        "corr"
      ],
      "execution_count": 54,
      "outputs": [
        {
          "output_type": "execute_result",
          "data": {
            "text/html": [
              "<div>\n",
              "<style scoped>\n",
              "    .dataframe tbody tr th:only-of-type {\n",
              "        vertical-align: middle;\n",
              "    }\n",
              "\n",
              "    .dataframe tbody tr th {\n",
              "        vertical-align: top;\n",
              "    }\n",
              "\n",
              "    .dataframe thead th {\n",
              "        text-align: right;\n",
              "    }\n",
              "</style>\n",
              "<table border=\"1\" class=\"dataframe\">\n",
              "  <thead>\n",
              "    <tr style=\"text-align: right;\">\n",
              "      <th></th>\n",
              "      <th>unit_sales</th>\n",
              "      <th>perishable</th>\n",
              "      <th>cluster</th>\n",
              "    </tr>\n",
              "  </thead>\n",
              "  <tbody>\n",
              "    <tr>\n",
              "      <th>unit_sales</th>\n",
              "      <td>1.000000</td>\n",
              "      <td>0.052244</td>\n",
              "      <td>0.024421</td>\n",
              "    </tr>\n",
              "    <tr>\n",
              "      <th>perishable</th>\n",
              "      <td>0.052244</td>\n",
              "      <td>1.000000</td>\n",
              "      <td>0.002096</td>\n",
              "    </tr>\n",
              "    <tr>\n",
              "      <th>cluster</th>\n",
              "      <td>0.024421</td>\n",
              "      <td>0.002096</td>\n",
              "      <td>1.000000</td>\n",
              "    </tr>\n",
              "  </tbody>\n",
              "</table>\n",
              "</div>"
            ],
            "text/plain": [
              "            unit_sales  perishable   cluster\n",
              "unit_sales    1.000000    0.052244  0.024421\n",
              "perishable    0.052244    1.000000  0.002096\n",
              "cluster       0.024421    0.002096  1.000000"
            ]
          },
          "metadata": {
            "tags": []
          },
          "execution_count": 54
        }
      ]
    },
    {
      "cell_type": "code",
      "metadata": {
        "id": "JRTuPV0X2ZlQ",
        "colab_type": "code",
        "colab": {
          "base_uri": "https://localhost:8080/",
          "height": 85
        },
        "outputId": "05d292ca-879c-46f5-ba82-8581d64d3725"
      },
      "source": [
        "print(corr['unit_sales'].sort_values(ascending=False))"
      ],
      "execution_count": 55,
      "outputs": [
        {
          "output_type": "stream",
          "text": [
            "unit_sales    1.000000\n",
            "perishable    0.052244\n",
            "cluster       0.024421\n",
            "Name: unit_sales, dtype: float64\n"
          ],
          "name": "stdout"
        }
      ]
    },
    {
      "cell_type": "code",
      "metadata": {
        "id": "s6Doji4Uz4XJ",
        "colab_type": "code",
        "colab": {
          "base_uri": "https://localhost:8080/",
          "height": 574
        },
        "outputId": "1bb647cb-66e5-44da-95d7-8fe0f69d2f1c"
      },
      "source": [
        "#correlation matrix\n",
        "f, ax = plt.subplots(figsize=(12, 9))\n",
        "sns.heatmap(corr, vmax=.8, square=True);"
      ],
      "execution_count": 56,
      "outputs": [
        {
          "output_type": "display_data",
          "data": {
            "image/png": "[encoded data removed]",
            "text/plain": [
              "<Figure size 864x648 with 2 Axes>"
            ]
          },
          "metadata": {
            "tags": []
          }
        }
      ]
    },
    {
      "cell_type": "code",
      "metadata": {
        "id": "mcCJ5AP-1z9L",
        "colab_type": "code",
        "colab": {
          "base_uri": "https://localhost:8080/",
          "height": 328
        },
        "outputId": "0323a582-6cde-447f-b83c-465f2624f66a"
      },
      "source": [
        "sns.countplot(df123.perishable)"
      ],
      "execution_count": 65,
      "outputs": [
        {
          "output_type": "execute_result",
          "data": {
            "text/plain": [
              "<matplotlib.axes._subplots.AxesSubplot at 0x7f3a283f8710>"
            ]
          },
          "metadata": {
            "tags": []
          },
          "execution_count": 65
        },
        {
          "output_type": "display_data",
          "data": {
            "image/png": "[encoded data removed]",
            "text/plain": [
              "<Figure size 432x288 with 1 Axes>"
            ]
          },
          "metadata": {
            "tags": []
          }
        }
      ]
    },
    {
      "cell_type": "code",
      "metadata": {
        "id": "ABeTnwwe3HTV",
        "colab_type": "code",
        "colab": {
          "base_uri": "https://localhost:8080/",
          "height": 504
        },
        "outputId": "073587bb-28e1-4516-86af-910d267d4eaa"
      },
      "source": [
        "sns.countplot(df123.category_of_item)\n",
        "plt.xticks(rotation=90)"
      ],
      "execution_count": 59,
      "outputs": [
        {
          "output_type": "execute_result",
          "data": {
            "text/plain": [
              "(array([ 0,  1,  2,  3,  4,  5,  6,  7,  8,  9, 10, 11, 12, 13, 14, 15, 16,\n",
              "        17, 18, 19, 20, 21, 22, 23, 24, 25, 26, 27, 28, 29]),\n",
              " <a list of 30 Text xticklabel objects>)"
            ]
          },
          "metadata": {
            "tags": []
          },
          "execution_count": 59
        },
        {
          "output_type": "display_data",
          "data": {
            "image/png": "[encoded data removed]",
            "text/plain": [
              "<Figure size 432x288 with 1 Axes>"
            ]
          },
          "metadata": {
            "tags": []
          }
        }
      ]
    },
    {
      "cell_type": "code",
      "metadata": {
        "id": "29EQxIhE3lR7",
        "colab_type": "code",
        "colab": {
          "base_uri": "https://localhost:8080/",
          "height": 328
        },
        "outputId": "9d3b30cc-f02b-496e-8f39-222813bef28e"
      },
      "source": [
        "sns.countplot(df123.onpromotion)"
      ],
      "execution_count": 60,
      "outputs": [
        {
          "output_type": "execute_result",
          "data": {
            "text/plain": [
              "<matplotlib.axes._subplots.AxesSubplot at 0x7f3a286c2f28>"
            ]
          },
          "metadata": {
            "tags": []
          },
          "execution_count": 60
        },
        {
          "output_type": "display_data",
          "data": {
            "image/png": "[encoded data removed]",
            "text/plain": [
              "<Figure size 432x288 with 1 Axes>"
            ]
          },
          "metadata": {
            "tags": []
          }
        }
      ]
    },
    {
      "cell_type": "code",
      "metadata": {
        "id": "nYoRG9Kd4Fgy",
        "colab_type": "code",
        "colab": {
          "base_uri": "https://localhost:8080/",
          "height": 320
        },
        "outputId": "485c2a0e-04d3-4c5f-a700-b03f22e83ecf"
      },
      "source": [
        "sns.countplot(df123.location_id)"
      ],
      "execution_count": 61,
      "outputs": [
        {
          "output_type": "execute_result",
          "data": {
            "text/plain": [
              "<matplotlib.axes._subplots.AxesSubplot at 0x7f3a285964e0>"
            ]
          },
          "metadata": {
            "tags": []
          },
          "execution_count": 61
        },
        {
          "output_type": "display_data",
          "data": {
            "image/png": "[encoded data removed]",
            "text/plain": [
              "<Figure size 432x288 with 1 Axes>"
            ]
          },
          "metadata": {
            "tags": []
          }
        }
      ]
    },
    {
      "cell_type": "code",
      "metadata": {
        "id": "n3DXyPcc4YYo",
        "colab_type": "code",
        "colab": {
          "base_uri": "https://localhost:8080/",
          "height": 421
        },
        "outputId": "ca59a044-ad15-4893-f02c-96bd6623c12b"
      },
      "source": [
        "sns.countplot(df123.city)\n",
        "plt.xticks(rotation=90)"
      ],
      "execution_count": 63,
      "outputs": [
        {
          "output_type": "execute_result",
          "data": {
            "text/plain": [
              "(array([ 0,  1,  2,  3,  4,  5,  6,  7,  8,  9, 10, 11, 12, 13, 14, 15, 16,\n",
              "        17, 18, 19, 20, 21]), <a list of 22 Text xticklabel objects>)"
            ]
          },
          "metadata": {
            "tags": []
          },
          "execution_count": 63
        },
        {
          "output_type": "display_data",
          "data": {
            "image/png": "[encoded data removed]",
            "text/plain": [
              "<Figure size 432x288 with 1 Axes>"
            ]
          },
          "metadata": {
            "tags": []
          }
        }
      ]
    },
    {
      "cell_type": "code",
      "metadata": {
        "id": "OL8N-DAq45H3",
        "colab_type": "code",
        "colab": {
          "base_uri": "https://localhost:8080/",
          "height": 513
        },
        "outputId": "f6f49019-b02c-4a02-9a85-2ef037dd7d7b"
      },
      "source": [
        "plt.figure(figsize=(12,7))\n",
        "plt.xlabel(\"unit_sales\")\n",
        "plt.ylabel(\"item_id\")\n",
        "plt.title(\"unit_sales\")\n",
        "plt.plot(df123.onpromotion, df123[\"unit_sales\"],'.', alpha = 0.3)"
      ],
      "execution_count": 67,
      "outputs": [
        {
          "output_type": "execute_result",
          "data": {
            "text/plain": [
              "[<matplotlib.lines.Line2D at 0x7f3a282cccc0>]"
            ]
          },
          "metadata": {
            "tags": []
          },
          "execution_count": 67
        },
        {
          "output_type": "display_data",
          "data": {
            "image/png": "[encoded data removed]",
            "text/plain": [
              "<Figure size 864x504 with 1 Axes>"
            ]
          },
          "metadata": {
            "tags": []
          }
        }
      ]
    },
    {
      "cell_type": "code",
      "metadata": {
        "id": "9SSDgDbD65lO",
        "colab_type": "code",
        "colab": {
          "base_uri": "https://localhost:8080/",
          "height": 513
        },
        "outputId": "bc007cdd-bcb4-4b97-d879-50944c474db6"
      },
      "source": [
        "plt.figure(figsize=(12,7))\n",
        "plt.xlabel(\"perishable\")\n",
        "plt.ylabel(\"unit_sales\")\n",
        "plt.title(\"perishable and unit_sales\")\n",
        "plt.plot(df123.perishable, df123[\"unit_sales\"],'.', alpha = 0.3)"
      ],
      "execution_count": 71,
      "outputs": [
        {
          "output_type": "execute_result",
          "data": {
            "text/plain": [
              "[<matplotlib.lines.Line2D at 0x7f3a282e5518>]"
            ]
          },
          "metadata": {
            "tags": []
          },
          "execution_count": 71
        },
        {
          "output_type": "display_data",
          "data": {
            "image/png": "[encoded data removed]",
            "text/plain": [
              "<Figure size 864x504 with 1 Axes>"
            ]
          },
          "metadata": {
            "tags": []
          }
        }
      ]
    },
    {
      "cell_type": "code",
      "metadata": {
        "id": "LP5BJOZz_KT1",
        "colab_type": "code",
        "colab": {}
      },
      "source": [
        ""
      ],
      "execution_count": 0,
      "outputs": []
    }
  ]
}